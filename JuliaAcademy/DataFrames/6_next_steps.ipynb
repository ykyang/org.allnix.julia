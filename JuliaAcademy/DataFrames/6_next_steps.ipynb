{
 "cells": [
  {
   "cell_type": "markdown",
   "id": "11399802",
   "metadata": {},
   "source": [
    "# Final examples\n",
    "Joining and reshaping data"
   ]
  },
  {
   "cell_type": "code",
   "execution_count": null,
   "id": "866069fb",
   "metadata": {},
   "outputs": [],
   "source": [
    "using DataFrames, CSV, Pipe, Unitful, Dates"
   ]
  },
  {
   "cell_type": "code",
   "execution_count": null,
   "id": "7872717d",
   "metadata": {},
   "outputs": [],
   "source": [
    "# Load rainfall data\n",
    "rainfall_long = CSV.File(\"rainfall_forecast.csv\") |> DataFrame"
   ]
  },
  {
   "cell_type": "code",
   "execution_count": null,
   "id": "06f75818",
   "metadata": {},
   "outputs": [],
   "source": [
    "transform!(rainfall_long, :rainfall => x -> x .* u\"mm\", renamecols=false)"
   ]
  },
  {
   "cell_type": "code",
   "execution_count": null,
   "id": "974dca10",
   "metadata": {},
   "outputs": [],
   "source": [
    "eltype.(eachcol(rainfall_long))"
   ]
  },
  {
   "cell_type": "code",
   "execution_count": null,
   "id": "991ca459",
   "metadata": {},
   "outputs": [],
   "source": [
    "rainfall_wide = unstack(rainfall_long, :date, :city, :rainfall)"
   ]
  },
  {
   "cell_type": "code",
   "execution_count": null,
   "id": "994eb43b",
   "metadata": {},
   "outputs": [],
   "source": [
    "# No problem with special character\n",
    "rainfall_wide.\"Ełk\""
   ]
  },
  {
   "cell_type": "code",
   "execution_count": null,
   "id": "1a78f62a",
   "metadata": {},
   "outputs": [],
   "source": [
    "# Fill missing data and missing days with 0 mm\n",
    "# 1. Create array of all days\n",
    "all_days = DataFrame( \"date\" => Date.(2020,11,16:22))"
   ]
  },
  {
   "cell_type": "code",
   "execution_count": null,
   "id": "d95f9ad1",
   "metadata": {},
   "outputs": [],
   "source": [
    "rainfall_all = @pipe leftjoin(all_days, rainfall_wide, on=:date) |> coalesce.(_, 0.0u\"mm\")"
   ]
  },
  {
   "cell_type": "code",
   "execution_count": null,
   "id": "75bc5fa9",
   "metadata": {},
   "outputs": [],
   "source": [
    "sort(rainfall_all, :date)"
   ]
  }
 ],
 "metadata": {
  "kernelspec": {
   "display_name": "Julia 1.6.1",
   "language": "julia",
   "name": "julia-1.6"
  },
  "language_info": {
   "file_extension": ".jl",
   "mimetype": "application/julia",
   "name": "julia",
   "version": "1.6.1"
  }
 },
 "nbformat": 4,
 "nbformat_minor": 5
}
