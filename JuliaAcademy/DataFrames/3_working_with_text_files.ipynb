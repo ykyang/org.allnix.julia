{
 "cells": [
  {
   "cell_type": "markdown",
   "id": "5e653e54",
   "metadata": {},
   "source": [
    "# Working with text files\n",
    "Interact with CSV\n",
    "## Learn\n",
    "```julia\n",
    "read(\"auto.txt\", String)     # read file into a string\n",
    "replace(raw_str, '\\t'=>' ')  # replace char in a string\n",
    "IOBuffer(str_no_tab)         # IO from a string\n",
    "DataFrame(:abc => Float64[]) # Create with empty column\n",
    "Float64[]                    # alias for Array{Float64, 1}\n",
    "allowmissing!()\n",
    "# isqual() vs ==\n",
    "something()\n",
    "tryparse()\n",
    "ByRow()\n",
    "count()\n",
    "eachcol()\n",
    "Iterators.flatten()\n",
    "```"
   ]
  },
  {
   "cell_type": "code",
   "execution_count": null,
   "id": "e5827b63",
   "metadata": {},
   "outputs": [],
   "source": [
    "using DataFrames\n",
    "using CSV\n",
    "using Arrow\n",
    "using Statistics\n",
    "\n",
    "using Test"
   ]
  },
  {
   "cell_type": "markdown",
   "id": "cad4adc1",
   "metadata": {},
   "source": [
    "Download the data set"
   ]
  },
  {
   "cell_type": "code",
   "execution_count": null,
   "id": "fe6a7946",
   "metadata": {},
   "outputs": [],
   "source": [
    "download(\"https://archive.ics.uci.edu/ml/machine-learning-databases/auto-mpg/auto-mpg.data-original\",\n",
    "         \"auto.txt\")"
   ]
  },
  {
   "cell_type": "markdown",
   "id": "3d2af9db",
   "metadata": {},
   "source": [
    "Use `readlines` to read the file."
   ]
  },
  {
   "cell_type": "code",
   "execution_count": null,
   "id": "9320546c",
   "metadata": {},
   "outputs": [],
   "source": [
    "readlines(\"auto.txt\")"
   ]
  },
  {
   "cell_type": "markdown",
   "id": "804d228a",
   "metadata": {},
   "source": [
    "Notice the following\n",
    "1. no header\n",
    "2. some tab, some space separated\n",
    "3. \"NA\" for missing value\n",
    "\n",
    "Different options to parse into a `DataFrame`.\n",
    "\n",
    "### Replace tabs with spaces\n",
    "Read file into a string"
   ]
  },
  {
   "cell_type": "code",
   "execution_count": null,
   "id": "377e982a",
   "metadata": {
    "scrolled": true
   },
   "outputs": [],
   "source": [
    "raw_str = read(\"auto.txt\", String)"
   ]
  },
  {
   "cell_type": "markdown",
   "id": "837afdbb",
   "metadata": {},
   "source": [
    "Replace tab by space\n",
    "This will not work if column text has tab in it."
   ]
  },
  {
   "cell_type": "code",
   "execution_count": null,
   "id": "21ee9e59",
   "metadata": {},
   "outputs": [],
   "source": [
    "str_no_tab = replace(raw_str, '\\t'=>' ')"
   ]
  },
  {
   "cell_type": "markdown",
   "id": "4f67bc51",
   "metadata": {},
   "source": [
    "Create `IOBuffer` from the string"
   ]
  },
  {
   "cell_type": "code",
   "execution_count": null,
   "id": "020d293f",
   "metadata": {},
   "outputs": [],
   "source": [
    "io = IOBuffer(str_no_tab)"
   ]
  },
  {
   "cell_type": "markdown",
   "id": "8ff07efe",
   "metadata": {},
   "source": [
    "Read data from `io` into CSV, and notice the following\n",
    "1. delimiter is space\n",
    "2. ignore consecutive delimiter\n",
    "3. specify column header\n",
    "4. specify missing value is represented by \"NA\"\n",
    "\n",
    "Notice a pipe is used to pass output from `CSV` to `DataFrame`."
   ]
  },
  {
   "cell_type": "code",
   "execution_count": null,
   "id": "19ea54f1",
   "metadata": {},
   "outputs": [],
   "source": [
    "df1 = CSV.File(\n",
    "    io,\n",
    "    delim = ' ',\n",
    "    ignorerepeated = true,\n",
    "    header = [\n",
    "        :mpg, :cylinders, :displacement, :horsepower,\n",
    "        :weight, :acceleration, :year, :origin, :name,  \n",
    "    ],\n",
    "    missingstring = \"NA\",\n",
    ") |> DataFrame"
   ]
  },
  {
   "cell_type": "markdown",
   "id": "4fd1e543",
   "metadata": {},
   "source": [
    "Control the amount of data displayed"
   ]
  },
  {
   "cell_type": "code",
   "execution_count": null,
   "id": "c0c56194",
   "metadata": {},
   "outputs": [],
   "source": [
    "ENV[\"COLUMNS\"] = 200\n",
    "ENV[\"LINES\"] = 15\n",
    "df1"
   ]
  },
  {
   "cell_type": "markdown",
   "id": "487772e9",
   "metadata": {},
   "source": [
    "### Read directly"
   ]
  },
  {
   "cell_type": "code",
   "execution_count": null,
   "id": "7b3f7bce",
   "metadata": {},
   "outputs": [],
   "source": [
    "df_raw = CSV.File(\"auto.txt\", header=[:metrics, :name]) |> DataFrame"
   ]
  },
  {
   "cell_type": "markdown",
   "id": "ec31d83b",
   "metadata": {},
   "source": [
    "Split `:metrics` manually"
   ]
  },
  {
   "cell_type": "code",
   "execution_count": null,
   "id": "fd763aa0",
   "metadata": {},
   "outputs": [],
   "source": [
    "str_metrics = split.(df_raw[!,:metrics])"
   ]
  },
  {
   "cell_type": "markdown",
   "id": "38922275",
   "metadata": {},
   "source": [
    "Create empty `DataFrame` with list comprehension.  Notice `Float64[]` is an alias for `Array{Float64, 1}`."
   ]
  },
  {
   "cell_type": "code",
   "execution_count": null,
   "id": "4f5af62c",
   "metadata": {},
   "outputs": [],
   "source": [
    "df1_2 = DataFrame([col => Float64[] for col in [:mpg, :cylinders, :displacement, :horsepower, :weight, :acceleration, :year, :origin]])"
   ]
  },
  {
   "cell_type": "markdown",
   "id": "bbc6e595",
   "metadata": {},
   "source": [
    "Allow missing values"
   ]
  },
  {
   "cell_type": "code",
   "execution_count": null,
   "id": "18301202",
   "metadata": {},
   "outputs": [],
   "source": [
    "allowmissing!(df1_2, [:mpg, :horsepower])"
   ]
  },
  {
   "cell_type": "markdown",
   "id": "0cea04f6",
   "metadata": {},
   "source": [
    "Note that `Float64?` indicates allowing missing values.\n",
    "Populate data frame"
   ]
  },
  {
   "cell_type": "code",
   "execution_count": null,
   "id": "d439b126",
   "metadata": {},
   "outputs": [],
   "source": [
    "for row in str_metrics\n",
    "    push!(df1_2, [v == \"NA\" ? missing : parse(Float64,v) for v in row])\n",
    "end\n",
    "\n",
    "df1_2"
   ]
  },
  {
   "cell_type": "markdown",
   "id": "e5346cff",
   "metadata": {},
   "source": [
    "Add `:name` from `df_raw`"
   ]
  },
  {
   "cell_type": "code",
   "execution_count": null,
   "id": "39014f93",
   "metadata": {},
   "outputs": [],
   "source": [
    "df1_2[!,:name] = df_raw[!,:name] # copy by reference\n",
    "@test df1_2.name === df_raw.name\n",
    "\n",
    "df1_2[!,:name] = df_raw[:,:name] # copy by value\n",
    "@test df1_2.name !== df_raw.name\n",
    "\n",
    "@test isequal(df1_2, df1) # different from ==\n",
    "@test ismissing(df1_2 == df1)\n",
    "\n",
    "df1_2"
   ]
  },
  {
   "cell_type": "markdown",
   "id": "04578e74",
   "metadata": {},
   "source": [
    "### Read with one liner "
   ]
  },
  {
   "cell_type": "code",
   "execution_count": null,
   "id": "bf1f82f9",
   "metadata": {},
   "outputs": [],
   "source": [
    "df1_3 = select(df_raw,\n",
    "    :metrics => ByRow(\n",
    "       x -> something.(tryparse.(Float64, split(x)), missing)\n",
    "    ) => [:mpg, :cylinders, :displacement, :horsepower, :weight, :acceleration, :year, :origin],\n",
    "    :name\n",
    ")\n",
    "@test isequal(df1_3, df1)"
   ]
  },
  {
   "cell_type": "markdown",
   "id": "8b3e692f",
   "metadata": {},
   "source": [
    "Count the number of missing values"
   ]
  },
  {
   "cell_type": "code",
   "execution_count": null,
   "id": "920c3b73",
   "metadata": {},
   "outputs": [],
   "source": [
    "Ans = [count(ismissing, col) for col in eachcol(df1)]\n",
    "sum(Ans)"
   ]
  },
  {
   "cell_type": "markdown",
   "id": "87acd7a8",
   "metadata": {},
   "source": [
    "Use `mapcols` to the number of missings per column"
   ]
  },
  {
   "cell_type": "code",
   "execution_count": null,
   "id": "86dab2c7",
   "metadata": {},
   "outputs": [],
   "source": [
    "Ans = mapcols(col -> count(ismissing, col), df1)\n",
    "@test Ans isa DataFrame\n",
    "Ans"
   ]
  },
  {
   "cell_type": "markdown",
   "id": "f8ac9565",
   "metadata": {},
   "source": [
    "Find rows with missing values"
   ]
  },
  {
   "cell_type": "code",
   "execution_count": null,
   "id": "30396530",
   "metadata": {},
   "outputs": [],
   "source": [
    "Ans = filter(row -> any(ismissing, row), df1)"
   ]
  },
  {
   "cell_type": "markdown",
   "id": "1e418262",
   "metadata": {},
   "source": [
    "Create a brand column from the name column"
   ]
  },
  {
   "cell_type": "code",
   "execution_count": null,
   "id": "713bf947",
   "metadata": {},
   "outputs": [],
   "source": [
    "Ans = first.(split.(df1[!,:name]))\n",
    "df1[!,:brand] = Ans\n",
    "df1"
   ]
  },
  {
   "cell_type": "code",
   "execution_count": null,
   "id": "9b4f95e1",
   "metadata": {},
   "outputs": [],
   "source": [
    "# Drop rows with missing\n",
    "df2 = dropmissing(df1)"
   ]
  },
  {
   "cell_type": "markdown",
   "id": "1ffe742f",
   "metadata": {},
   "source": [
    "Find rows that is \"saab\" brand by indexing"
   ]
  },
  {
   "cell_type": "code",
   "execution_count": null,
   "id": "2fb9396d",
   "metadata": {},
   "outputs": [],
   "source": [
    "df2[df2[!,:brand] .== \"saab\", :]"
   ]
  },
  {
   "cell_type": "markdown",
   "id": "1b014a60",
   "metadata": {},
   "source": [
    "Find rows that is \"saab\" brand by filtering"
   ]
  },
  {
   "cell_type": "code",
   "execution_count": null,
   "id": "7ffc0da9",
   "metadata": {},
   "outputs": [],
   "source": [
    "filter(\"brand\" => ==(\"saab\"), df2)"
   ]
  },
  {
   "cell_type": "markdown",
   "id": "9f0acc4d",
   "metadata": {},
   "source": [
    "Save to files"
   ]
  },
  {
   "cell_type": "code",
   "execution_count": null,
   "id": "a8c68a68",
   "metadata": {},
   "outputs": [],
   "source": [
    "CSV.write(\"auto2.csv\", df2)\n",
    "Arrow.write(\"auto2.arrow\", df2)"
   ]
  },
  {
   "cell_type": "code",
   "execution_count": null,
   "id": "f41ded80",
   "metadata": {},
   "outputs": [],
   "source": [
    "# inspect the output file\n",
    "readlines(\"auto2.csv\")"
   ]
  }
 ],
 "metadata": {
  "@webio": {
   "lastCommId": null,
   "lastKernelId": null
  },
  "kernelspec": {
   "display_name": "Julia 1.6.1",
   "language": "julia",
   "name": "julia-1.6"
  },
  "language_info": {
   "file_extension": ".jl",
   "mimetype": "application/julia",
   "name": "julia",
   "version": "1.6.1"
  }
 },
 "nbformat": 4,
 "nbformat_minor": 5
}
