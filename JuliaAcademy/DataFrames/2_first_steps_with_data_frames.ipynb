{
 "cells": [
  {
   "cell_type": "markdown",
   "id": "7ed1cc82",
   "metadata": {},
   "source": [
    "# First steps with Data Frames.jl"
   ]
  },
  {
   "cell_type": "markdown",
   "id": "66b16d49",
   "metadata": {},
   "source": [
    "In this notebook we will reproduce the classical Anscombe's quartert plot.\n",
    "\n",
    "Our objective is to produce a figure similar to this one (the plot is taken from [here](https://upload.wikimedia.org/wikipedia/commons/e/ec/Anscombe%27s_quartet_3.svg)).\n",
    "\n",
    "<img src=\"https://upload.wikimedia.org/wikipedia/commons/e/ec/Anscombe%27s_quartet_3.svg\" style=\"height: 400px; width:400px;\" />\n",
    "\n",
    "We start with loading of the required packages"
   ]
  },
  {
   "cell_type": "code",
   "execution_count": 1,
   "id": "34921f4c",
   "metadata": {},
   "outputs": [],
   "source": [
    "using DataFrames\n",
    "using Statistics\n",
    "using PyPlot\n",
    "using GLM"
   ]
  },
  {
   "cell_type": "markdown",
   "id": "72e79644",
   "metadata": {},
   "source": [
    "This is a matrix in which we store 8 columns representing Anscombe's quartet data"
   ]
  },
  {
   "cell_type": "code",
   "execution_count": 2,
   "id": "2a31ce57",
   "metadata": {},
   "outputs": [
    {
     "data": {
      "text/plain": [
       "11×8 Matrix{Float64}:\n",
       " 10.0   8.04  10.0  9.14  10.0   7.46   8.0   6.58\n",
       "  8.0   6.95   8.0  8.14   8.0   6.77   8.0   5.76\n",
       " 13.0   7.58  13.0  8.74  13.0  12.74   8.0   7.71\n",
       "  9.0   8.81   9.0  8.77   9.0   7.11   8.0   8.84\n",
       " 11.0   8.33  11.0  9.26  11.0   7.81   8.0   8.47\n",
       " 14.0   9.96  14.0  8.1   14.0   8.84   8.0   7.04\n",
       "  6.0   7.24   6.0  6.13   6.0   6.08   8.0   5.25\n",
       "  4.0   4.26   4.0  3.1    4.0   5.39  19.0  12.5\n",
       " 12.0  10.84  12.0  9.13  12.0   8.15   8.0   5.56\n",
       "  7.0   4.82   7.0  7.26   7.0   6.42   8.0   7.91\n",
       "  5.0   5.68   5.0  4.74   5.0   5.73   8.0   6.89"
      ]
     },
     "execution_count": 2,
     "metadata": {},
     "output_type": "execute_result"
    }
   ],
   "source": [
    "aq = [10.0   8.04  10.0  9.14  10.0   7.46   8.0   6.58\n",
    "       8.0   6.95   8.0  8.14   8.0   6.77   8.0   5.76\n",
    "      13.0   7.58  13.0  8.74  13.0  12.74   8.0   7.71\n",
    "       9.0   8.81   9.0  8.77   9.0   7.11   8.0   8.84\n",
    "      11.0   8.33  11.0  9.26  11.0   7.81   8.0   8.47\n",
    "      14.0   9.96  14.0  8.1   14.0   8.84   8.0   7.04\n",
    "       6.0   7.24   6.0  6.13   6.0   6.08   8.0   5.25\n",
    "       4.0   4.26   4.0  3.1    4.0   5.39  19.0  12.50 \n",
    "      12.0  10.84  12.0  9.13  12.0   8.15   8.0   5.56\n",
    "       7.0   4.82   7.0  7.26   7.0   6.42   8.0   7.91\n",
    "       5.0   5.68   5.0  4.74   5.0   5.73   8.0   6.89]"
   ]
  },
  {
   "cell_type": "markdown",
   "id": "d9cda5ca",
   "metadata": {},
   "source": [
    "We can simply convert a matrix to a `DataFrame` by calling its constructor"
   ]
  },
  {
   "cell_type": "code",
   "execution_count": 3,
   "id": "81259e8a",
   "metadata": {},
   "outputs": [
    {
     "data": {
      "text/html": [
       "<table class=\"data-frame\"><thead><tr><th></th><th>x1</th><th>x2</th><th>x3</th><th>x4</th><th>x5</th><th>x6</th><th>x7</th><th>x8</th></tr><tr><th></th><th>Float64</th><th>Float64</th><th>Float64</th><th>Float64</th><th>Float64</th><th>Float64</th><th>Float64</th><th>Float64</th></tr></thead><tbody><p>11 rows × 8 columns</p><tr><th>1</th><td>10.0</td><td>8.04</td><td>10.0</td><td>9.14</td><td>10.0</td><td>7.46</td><td>8.0</td><td>6.58</td></tr><tr><th>2</th><td>8.0</td><td>6.95</td><td>8.0</td><td>8.14</td><td>8.0</td><td>6.77</td><td>8.0</td><td>5.76</td></tr><tr><th>3</th><td>13.0</td><td>7.58</td><td>13.0</td><td>8.74</td><td>13.0</td><td>12.74</td><td>8.0</td><td>7.71</td></tr><tr><th>4</th><td>9.0</td><td>8.81</td><td>9.0</td><td>8.77</td><td>9.0</td><td>7.11</td><td>8.0</td><td>8.84</td></tr><tr><th>5</th><td>11.0</td><td>8.33</td><td>11.0</td><td>9.26</td><td>11.0</td><td>7.81</td><td>8.0</td><td>8.47</td></tr><tr><th>6</th><td>14.0</td><td>9.96</td><td>14.0</td><td>8.1</td><td>14.0</td><td>8.84</td><td>8.0</td><td>7.04</td></tr><tr><th>7</th><td>6.0</td><td>7.24</td><td>6.0</td><td>6.13</td><td>6.0</td><td>6.08</td><td>8.0</td><td>5.25</td></tr><tr><th>8</th><td>4.0</td><td>4.26</td><td>4.0</td><td>3.1</td><td>4.0</td><td>5.39</td><td>19.0</td><td>12.5</td></tr><tr><th>9</th><td>12.0</td><td>10.84</td><td>12.0</td><td>9.13</td><td>12.0</td><td>8.15</td><td>8.0</td><td>5.56</td></tr><tr><th>10</th><td>7.0</td><td>4.82</td><td>7.0</td><td>7.26</td><td>7.0</td><td>6.42</td><td>8.0</td><td>7.91</td></tr><tr><th>11</th><td>5.0</td><td>5.68</td><td>5.0</td><td>4.74</td><td>5.0</td><td>5.73</td><td>8.0</td><td>6.89</td></tr></tbody></table>"
      ],
      "text/latex": [
       "\\begin{tabular}{r|cccccccc}\n",
       "\t& x1 & x2 & x3 & x4 & x5 & x6 & x7 & x8\\\\\n",
       "\t\\hline\n",
       "\t& Float64 & Float64 & Float64 & Float64 & Float64 & Float64 & Float64 & Float64\\\\\n",
       "\t\\hline\n",
       "\t1 & 10.0 & 8.04 & 10.0 & 9.14 & 10.0 & 7.46 & 8.0 & 6.58 \\\\\n",
       "\t2 & 8.0 & 6.95 & 8.0 & 8.14 & 8.0 & 6.77 & 8.0 & 5.76 \\\\\n",
       "\t3 & 13.0 & 7.58 & 13.0 & 8.74 & 13.0 & 12.74 & 8.0 & 7.71 \\\\\n",
       "\t4 & 9.0 & 8.81 & 9.0 & 8.77 & 9.0 & 7.11 & 8.0 & 8.84 \\\\\n",
       "\t5 & 11.0 & 8.33 & 11.0 & 9.26 & 11.0 & 7.81 & 8.0 & 8.47 \\\\\n",
       "\t6 & 14.0 & 9.96 & 14.0 & 8.1 & 14.0 & 8.84 & 8.0 & 7.04 \\\\\n",
       "\t7 & 6.0 & 7.24 & 6.0 & 6.13 & 6.0 & 6.08 & 8.0 & 5.25 \\\\\n",
       "\t8 & 4.0 & 4.26 & 4.0 & 3.1 & 4.0 & 5.39 & 19.0 & 12.5 \\\\\n",
       "\t9 & 12.0 & 10.84 & 12.0 & 9.13 & 12.0 & 8.15 & 8.0 & 5.56 \\\\\n",
       "\t10 & 7.0 & 4.82 & 7.0 & 7.26 & 7.0 & 6.42 & 8.0 & 7.91 \\\\\n",
       "\t11 & 5.0 & 5.68 & 5.0 & 4.74 & 5.0 & 5.73 & 8.0 & 6.89 \\\\\n",
       "\\end{tabular}\n"
      ],
      "text/plain": [
       "\u001b[1m11×8 DataFrame\u001b[0m\n",
       "\u001b[1m Row \u001b[0m│\u001b[1m x1      \u001b[0m\u001b[1m x2      \u001b[0m\u001b[1m x3      \u001b[0m\u001b[1m x4      \u001b[0m\u001b[1m x5      \u001b[0m\u001b[1m x6      \u001b[0m\u001b[1m x7      \u001b[0m\u001b[1m x8      \u001b[0m\n",
       "\u001b[1m     \u001b[0m│\u001b[90m Float64 \u001b[0m\u001b[90m Float64 \u001b[0m\u001b[90m Float64 \u001b[0m\u001b[90m Float64 \u001b[0m\u001b[90m Float64 \u001b[0m\u001b[90m Float64 \u001b[0m\u001b[90m Float64 \u001b[0m\u001b[90m Float64 \u001b[0m\n",
       "─────┼────────────────────────────────────────────────────────────────────────\n",
       "   1 │    10.0     8.04     10.0     9.14     10.0     7.46      8.0     6.58\n",
       "   2 │     8.0     6.95      8.0     8.14      8.0     6.77      8.0     5.76\n",
       "   3 │    13.0     7.58     13.0     8.74     13.0    12.74      8.0     7.71\n",
       "   4 │     9.0     8.81      9.0     8.77      9.0     7.11      8.0     8.84\n",
       "   5 │    11.0     8.33     11.0     9.26     11.0     7.81      8.0     8.47\n",
       "   6 │    14.0     9.96     14.0     8.1      14.0     8.84      8.0     7.04\n",
       "   7 │     6.0     7.24      6.0     6.13      6.0     6.08      8.0     5.25\n",
       "   8 │     4.0     4.26      4.0     3.1       4.0     5.39     19.0    12.5\n",
       "   9 │    12.0    10.84     12.0     9.13     12.0     8.15      8.0     5.56\n",
       "  10 │     7.0     4.82      7.0     7.26      7.0     6.42      8.0     7.91\n",
       "  11 │     5.0     5.68      5.0     4.74      5.0     5.73      8.0     6.89"
      ]
     },
     "execution_count": 3,
     "metadata": {},
     "output_type": "execute_result"
    }
   ],
   "source": [
    "df = DataFrame(aq, :auto)"
   ]
  },
  {
   "cell_type": "markdown",
   "id": "82c335de",
   "metadata": {},
   "source": [
    "Note that the auto-generated column names are `x1`, `x2`, etc.\n",
    "Next we replace automatically generated column names by proper ones."
   ]
  },
  {
   "cell_type": "code",
   "execution_count": 7,
   "id": "42193cfa",
   "metadata": {},
   "outputs": [
    {
     "data": {
      "text/plain": [
       "8-element Vector{String}:\n",
       " \"x1\"\n",
       " \"y1\"\n",
       " \"x2\"\n",
       " \"y2\"\n",
       " \"x3\"\n",
       " \"y3\"\n",
       " \"x4\"\n",
       " \"y4\""
      ]
     },
     "execution_count": 7,
     "metadata": {},
     "output_type": "execute_result"
    }
   ],
   "source": [
    "# See broadcast() to understand how this works.\n",
    "# The second array is 1x4 so the broadcast produces a matrix\n",
    "newnames = vec(string.([\"x\", \"y\"], [1 2 3 4])) # don't understand why string.() does this\n",
    "# newnames = vec([\"$i$j\" for i in [\"x\", \"y\"], j in [1, 2, 3, 4]])"
   ]
  },
  {
   "cell_type": "code",
   "execution_count": 8,
   "id": "b170d218",
   "metadata": {},
   "outputs": [
    {
     "data": {
      "text/html": [
       "<table class=\"data-frame\"><thead><tr><th></th><th>x1</th><th>y1</th><th>x2</th><th>y2</th><th>x3</th><th>y3</th><th>x4</th><th>y4</th></tr><tr><th></th><th>Float64</th><th>Float64</th><th>Float64</th><th>Float64</th><th>Float64</th><th>Float64</th><th>Float64</th><th>Float64</th></tr></thead><tbody><p>11 rows × 8 columns</p><tr><th>1</th><td>10.0</td><td>8.04</td><td>10.0</td><td>9.14</td><td>10.0</td><td>7.46</td><td>8.0</td><td>6.58</td></tr><tr><th>2</th><td>8.0</td><td>6.95</td><td>8.0</td><td>8.14</td><td>8.0</td><td>6.77</td><td>8.0</td><td>5.76</td></tr><tr><th>3</th><td>13.0</td><td>7.58</td><td>13.0</td><td>8.74</td><td>13.0</td><td>12.74</td><td>8.0</td><td>7.71</td></tr><tr><th>4</th><td>9.0</td><td>8.81</td><td>9.0</td><td>8.77</td><td>9.0</td><td>7.11</td><td>8.0</td><td>8.84</td></tr><tr><th>5</th><td>11.0</td><td>8.33</td><td>11.0</td><td>9.26</td><td>11.0</td><td>7.81</td><td>8.0</td><td>8.47</td></tr><tr><th>6</th><td>14.0</td><td>9.96</td><td>14.0</td><td>8.1</td><td>14.0</td><td>8.84</td><td>8.0</td><td>7.04</td></tr><tr><th>7</th><td>6.0</td><td>7.24</td><td>6.0</td><td>6.13</td><td>6.0</td><td>6.08</td><td>8.0</td><td>5.25</td></tr><tr><th>8</th><td>4.0</td><td>4.26</td><td>4.0</td><td>3.1</td><td>4.0</td><td>5.39</td><td>19.0</td><td>12.5</td></tr><tr><th>9</th><td>12.0</td><td>10.84</td><td>12.0</td><td>9.13</td><td>12.0</td><td>8.15</td><td>8.0</td><td>5.56</td></tr><tr><th>10</th><td>7.0</td><td>4.82</td><td>7.0</td><td>7.26</td><td>7.0</td><td>6.42</td><td>8.0</td><td>7.91</td></tr><tr><th>11</th><td>5.0</td><td>5.68</td><td>5.0</td><td>4.74</td><td>5.0</td><td>5.73</td><td>8.0</td><td>6.89</td></tr></tbody></table>"
      ],
      "text/latex": [
       "\\begin{tabular}{r|cccccccc}\n",
       "\t& x1 & y1 & x2 & y2 & x3 & y3 & x4 & y4\\\\\n",
       "\t\\hline\n",
       "\t& Float64 & Float64 & Float64 & Float64 & Float64 & Float64 & Float64 & Float64\\\\\n",
       "\t\\hline\n",
       "\t1 & 10.0 & 8.04 & 10.0 & 9.14 & 10.0 & 7.46 & 8.0 & 6.58 \\\\\n",
       "\t2 & 8.0 & 6.95 & 8.0 & 8.14 & 8.0 & 6.77 & 8.0 & 5.76 \\\\\n",
       "\t3 & 13.0 & 7.58 & 13.0 & 8.74 & 13.0 & 12.74 & 8.0 & 7.71 \\\\\n",
       "\t4 & 9.0 & 8.81 & 9.0 & 8.77 & 9.0 & 7.11 & 8.0 & 8.84 \\\\\n",
       "\t5 & 11.0 & 8.33 & 11.0 & 9.26 & 11.0 & 7.81 & 8.0 & 8.47 \\\\\n",
       "\t6 & 14.0 & 9.96 & 14.0 & 8.1 & 14.0 & 8.84 & 8.0 & 7.04 \\\\\n",
       "\t7 & 6.0 & 7.24 & 6.0 & 6.13 & 6.0 & 6.08 & 8.0 & 5.25 \\\\\n",
       "\t8 & 4.0 & 4.26 & 4.0 & 3.1 & 4.0 & 5.39 & 19.0 & 12.5 \\\\\n",
       "\t9 & 12.0 & 10.84 & 12.0 & 9.13 & 12.0 & 8.15 & 8.0 & 5.56 \\\\\n",
       "\t10 & 7.0 & 4.82 & 7.0 & 7.26 & 7.0 & 6.42 & 8.0 & 7.91 \\\\\n",
       "\t11 & 5.0 & 5.68 & 5.0 & 4.74 & 5.0 & 5.73 & 8.0 & 6.89 \\\\\n",
       "\\end{tabular}\n"
      ],
      "text/plain": [
       "\u001b[1m11×8 DataFrame\u001b[0m\n",
       "\u001b[1m Row \u001b[0m│\u001b[1m x1      \u001b[0m\u001b[1m y1      \u001b[0m\u001b[1m x2      \u001b[0m\u001b[1m y2      \u001b[0m\u001b[1m x3      \u001b[0m\u001b[1m y3      \u001b[0m\u001b[1m x4      \u001b[0m\u001b[1m y4      \u001b[0m\n",
       "\u001b[1m     \u001b[0m│\u001b[90m Float64 \u001b[0m\u001b[90m Float64 \u001b[0m\u001b[90m Float64 \u001b[0m\u001b[90m Float64 \u001b[0m\u001b[90m Float64 \u001b[0m\u001b[90m Float64 \u001b[0m\u001b[90m Float64 \u001b[0m\u001b[90m Float64 \u001b[0m\n",
       "─────┼────────────────────────────────────────────────────────────────────────\n",
       "   1 │    10.0     8.04     10.0     9.14     10.0     7.46      8.0     6.58\n",
       "   2 │     8.0     6.95      8.0     8.14      8.0     6.77      8.0     5.76\n",
       "   3 │    13.0     7.58     13.0     8.74     13.0    12.74      8.0     7.71\n",
       "   4 │     9.0     8.81      9.0     8.77      9.0     7.11      8.0     8.84\n",
       "   5 │    11.0     8.33     11.0     9.26     11.0     7.81      8.0     8.47\n",
       "   6 │    14.0     9.96     14.0     8.1      14.0     8.84      8.0     7.04\n",
       "   7 │     6.0     7.24      6.0     6.13      6.0     6.08      8.0     5.25\n",
       "   8 │     4.0     4.26      4.0     3.1       4.0     5.39     19.0    12.5\n",
       "   9 │    12.0    10.84     12.0     9.13     12.0     8.15      8.0     5.56\n",
       "  10 │     7.0     4.82      7.0     7.26      7.0     6.42      8.0     7.91\n",
       "  11 │     5.0     5.68      5.0     4.74      5.0     5.73      8.0     6.89"
      ]
     },
     "execution_count": 8,
     "metadata": {},
     "output_type": "execute_result"
    }
   ],
   "source": [
    "rename!(df, newnames)"
   ]
  }
 ],
 "metadata": {
  "kernelspec": {
   "display_name": "Julia 1.6.1",
   "language": "julia",
   "name": "julia-1.6"
  },
  "language_info": {
   "file_extension": ".jl",
   "mimetype": "application/julia",
   "name": "julia",
   "version": "1.6.1"
  }
 },
 "nbformat": 4,
 "nbformat_minor": 5
}
