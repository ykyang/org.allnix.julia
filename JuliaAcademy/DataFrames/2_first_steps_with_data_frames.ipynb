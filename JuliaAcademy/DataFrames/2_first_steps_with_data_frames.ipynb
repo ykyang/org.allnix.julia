{
 "cells": [
  {
   "cell_type": "markdown",
   "id": "7ed1cc82",
   "metadata": {},
   "source": [
    "# First steps with Data Frames.jl"
   ]
  },
  {
   "cell_type": "markdown",
   "id": "aa9ce633",
   "metadata": {},
   "source": [
    "## Learn\n",
    "```julia\n",
    "extrema()\n",
    "round()\n",
    "string.([\"x\", \"y\"], [1 2 3 4])\n",
    "vec()\n",
    "```"
   ]
  },
  {
   "cell_type": "markdown",
   "id": "66b16d49",
   "metadata": {},
   "source": [
    "In this notebook we will reproduce the classical Anscombe's quartert plot.\n",
    "\n",
    "Our objective is to produce a figure similar to this one (the plot is taken from [here](https://upload.wikimedia.org/wikipedia/commons/e/ec/Anscombe%27s_quartet_3.svg)).\n",
    "\n",
    "<img src=\"https://upload.wikimedia.org/wikipedia/commons/e/ec/Anscombe%27s_quartet_3.svg\" style=\"height: 400px; width:400px;\" />\n",
    "\n",
    "We start with loading of the required packages"
   ]
  },
  {
   "cell_type": "code",
   "execution_count": null,
   "id": "34921f4c",
   "metadata": {},
   "outputs": [],
   "source": [
    "using DataFrames\n",
    "using Statistics\n",
    "using PyPlot\n",
    "using GLM"
   ]
  },
  {
   "cell_type": "markdown",
   "id": "72e79644",
   "metadata": {},
   "source": [
    "This is a matrix in which we store 8 columns representing Anscombe's quartet data"
   ]
  },
  {
   "cell_type": "code",
   "execution_count": null,
   "id": "2a31ce57",
   "metadata": {},
   "outputs": [],
   "source": [
    "aq = [10.0   8.04  10.0  9.14  10.0   7.46   8.0   6.58\n",
    "       8.0   6.95   8.0  8.14   8.0   6.77   8.0   5.76\n",
    "      13.0   7.58  13.0  8.74  13.0  12.74   8.0   7.71\n",
    "       9.0   8.81   9.0  8.77   9.0   7.11   8.0   8.84\n",
    "      11.0   8.33  11.0  9.26  11.0   7.81   8.0   8.47\n",
    "      14.0   9.96  14.0  8.1   14.0   8.84   8.0   7.04\n",
    "       6.0   7.24   6.0  6.13   6.0   6.08   8.0   5.25\n",
    "       4.0   4.26   4.0  3.1    4.0   5.39  19.0  12.50 \n",
    "      12.0  10.84  12.0  9.13  12.0   8.15   8.0   5.56\n",
    "       7.0   4.82   7.0  7.26   7.0   6.42   8.0   7.91\n",
    "       5.0   5.68   5.0  4.74   5.0   5.73   8.0   6.89]"
   ]
  },
  {
   "cell_type": "markdown",
   "id": "d9cda5ca",
   "metadata": {},
   "source": [
    "We can simply convert a matrix to a `DataFrame` by calling its constructor"
   ]
  },
  {
   "cell_type": "code",
   "execution_count": null,
   "id": "81259e8a",
   "metadata": {},
   "outputs": [],
   "source": [
    "df = DataFrame(aq, :auto)"
   ]
  },
  {
   "cell_type": "markdown",
   "id": "82c335de",
   "metadata": {},
   "source": [
    "Note that the auto-generated column names are `x1`, `x2`, etc.\n",
    "Next we replace automatically generated column names by proper ones."
   ]
  },
  {
   "cell_type": "code",
   "execution_count": null,
   "id": "42193cfa",
   "metadata": {},
   "outputs": [],
   "source": [
    "# See broadcast() to understand how this works.\n",
    "# The first array is 2x1, and the second array is 1x4 so the broadcast produces a matrix\n",
    "newname_mat = string.([\"x\", \"y\"], [1 2 3 4])"
   ]
  },
  {
   "cell_type": "code",
   "execution_count": null,
   "id": "b0458234",
   "metadata": {},
   "outputs": [],
   "source": [
    "newnames = vec(newname_mat) # vec() turn matrix into vec column first"
   ]
  },
  {
   "cell_type": "code",
   "execution_count": null,
   "id": "b170d218",
   "metadata": {},
   "outputs": [],
   "source": [
    "rename!(df, newnames)"
   ]
  },
  {
   "cell_type": "markdown",
   "id": "c91f37af",
   "metadata": {},
   "source": [
    "We could have also assigned the names to columns at the moment of data frame creation like this:"
   ]
  },
  {
   "cell_type": "code",
   "execution_count": null,
   "id": "b2bdcdb9",
   "metadata": {},
   "outputs": [],
   "source": [
    "DataFrame(aq, [:x1, :y1, :x2, :y2, :x3, :y3, :x4, :y4])"
   ]
  },
  {
   "cell_type": "markdown",
   "id": "8c67eb92",
   "metadata": {},
   "source": [
    "> You might have noticed that in the first example we used a string (e.g. \"x1\") as column name \n",
    "> and in the second one we used a `Symbol` (e.g. `:x1`).  This was intentional.  `DataFrames.jl` allows you to use either\n",
    "> of them for column indexing.\n",
    "\n",
    "To see the above rule at work let us extract the second column `:y1` from the data frame.  Here are several options how \n",
    "you can do it:"
   ]
  },
  {
   "cell_type": "code",
   "execution_count": null,
   "id": "2bde7ffa",
   "metadata": {},
   "outputs": [],
   "source": [
    "df.y1"
   ]
  },
  {
   "cell_type": "code",
   "execution_count": null,
   "id": "c24ba1ec",
   "metadata": {},
   "outputs": [],
   "source": [
    "df.\"y1\""
   ]
  },
  {
   "cell_type": "code",
   "execution_count": null,
   "id": "3f9a72a3",
   "metadata": {},
   "outputs": [],
   "source": [
    "df[:, :y1]"
   ]
  },
  {
   "cell_type": "code",
   "execution_count": null,
   "id": "a8ab311f",
   "metadata": {},
   "outputs": [],
   "source": [
    "df[:, \"y1\"]"
   ]
  },
  {
   "cell_type": "markdown",
   "id": "c7a34ad4",
   "metadata": {},
   "source": [
    "Assume that now we want to reorder columns of the data frame `df` in-place by first grouping the \"x\"-columns and then\n",
    "\"y\"-columns.\n",
    "\n",
    "This can be easily achieved with the `select!` function.\n",
    "\n",
    "Note that in column selection we can in particular use regular expressions like `r\"x\"` (matching all columns that have \"x\"\n",
    "in their name) and `:` which matches all columns (in this case only columns not having 'x\" in their name are left)."
   ]
  },
  {
   "cell_type": "code",
   "execution_count": null,
   "id": "84b19b90",
   "metadata": {},
   "outputs": [],
   "source": [
    "select!(df, r\"x\", :)"
   ]
  },
  {
   "cell_type": "markdown",
   "id": "438d9376",
   "metadata": {},
   "source": [
    "Note that we could have used `select` instead of `select!` function to create a new data frame (instead of mutating the data\n",
    "frame in-place).\n",
    "\n",
    "An interesting feature of Anscombe's quartet is that its variables have the same mean and variance.\n",
    "\n",
    "We can easily check this using the `describe` function."
   ]
  },
  {
   "cell_type": "code",
   "execution_count": null,
   "id": "44260a20",
   "metadata": {},
   "outputs": [],
   "source": [
    "describe(df, mean=>:mean, std=>:std)"
   ]
  },
  {
   "cell_type": "markdown",
   "id": "0e089a99",
   "metadata": {},
   "source": [
    "Now let us add a new column `id` to the data frame that will just index its rows from 1 to number of rows."
   ]
  },
  {
   "cell_type": "code",
   "execution_count": null,
   "id": "1e8f83ed",
   "metadata": {},
   "outputs": [],
   "source": [
    "df.id = axes(df,1) # or 1:nrow(df)\n",
    "df"
   ]
  },
  {
   "cell_type": "markdown",
   "id": "972e4dbe",
   "metadata": {},
   "source": [
    "Similar to `nrow` which gives us the number of rows in a data frame, one can use `ncol` to get the number of columns."
   ]
  },
  {
   "cell_type": "code",
   "execution_count": null,
   "id": "bfe2ecdb",
   "metadata": {},
   "outputs": [],
   "source": [
    "ncol(df)"
   ]
  },
  {
   "cell_type": "markdown",
   "id": "895873f9",
   "metadata": {},
   "source": [
    "Move \"id\" column to the front."
   ]
  },
  {
   "cell_type": "code",
   "execution_count": null,
   "id": "db5d5bc1",
   "metadata": {
    "scrolled": false
   },
   "outputs": [],
   "source": [
    "select(df, \"id\", :) # a copy returned, and df not changed"
   ]
  },
  {
   "cell_type": "markdown",
   "id": "c4cab1f2",
   "metadata": {},
   "source": [
    "Get data in matrix form."
   ]
  },
  {
   "cell_type": "code",
   "execution_count": null,
   "id": "a2c9ad1e",
   "metadata": {},
   "outputs": [],
   "source": [
    "Matrix(df)"
   ]
  },
  {
   "cell_type": "code",
   "execution_count": null,
   "id": "95473ff1",
   "metadata": {},
   "outputs": [],
   "source": [
    "collect(extrema(Matrix(select(df, r\"x\"))))"
   ]
  },
  {
   "cell_type": "code",
   "execution_count": null,
   "id": "7eca485a",
   "metadata": {},
   "outputs": [],
   "source": [
    "extrema(Matrix(select(df, r\"x\"))) .+ (-1,1) # padding to enlarge the range for plotting"
   ]
  },
  {
   "cell_type": "code",
   "execution_count": null,
   "id": "19a7ce07",
   "metadata": {},
   "outputs": [],
   "source": [
    "xlim = collect(extrema(Matrix(select(df, r\"x\"))) .+ (-1,1))"
   ]
  },
  {
   "cell_type": "code",
   "execution_count": null,
   "id": "2ace7083",
   "metadata": {},
   "outputs": [],
   "source": [
    "ylim = collect(extrema(Matrix(select(df, r\"y\"))) .+ (-1,1))"
   ]
  },
  {
   "cell_type": "code",
   "execution_count": null,
   "id": "a2a146c9",
   "metadata": {
    "scrolled": false
   },
   "outputs": [],
   "source": [
    "#plt.rcParams[\"figure.figsize\"] = (400,400)\n",
    "fig, axs = plt.subplots(2,2)\n",
    "fig.tight_layout(pad=4.0)\n",
    "for i in 1:4\n",
    "    x = Symbol(\"x\", i) # x1, x2 ...\n",
    "    y = Symbol(\"y\", i)\n",
    "    \n",
    "    model = lm(term(y)~term(x), df)\n",
    "    axs[i].plot(xlim, predict(model, DataFrame(x=>xlim)), color=\"orange\")\n",
    "    axs[i].scatter(df[:,x], df[:,y])\n",
    "    axs[i].set_xlim(xlim)\n",
    "    axs[i].set_ylim(ylim)\n",
    "    axs[i].set_xlabel(\"x$i\")\n",
    "    axs[i].set_ylabel(\"y$i\")\n",
    "    a, b = round.(coef(model), digits=2)\n",
    "    c = round(100 * r2(model), digits=2)\n",
    "    axs[i].set_title(\"R²=$c%, $y=$a+$b$x\")\n",
    "end"
   ]
  },
  {
   "cell_type": "markdown",
   "id": "3b2d8e01",
   "metadata": {},
   "source": [
    "It is easy to create a data frame from variables holding column names and valuesusing `=>`."
   ]
  },
  {
   "cell_type": "code",
   "execution_count": null,
   "id": "689a7305",
   "metadata": {
    "scrolled": true
   },
   "outputs": [],
   "source": [
    "x = :var1\n",
    "y = :var2\n",
    "xc = 1:3\n",
    "yc = 4:6\n",
    "DataFrame(x=>xc, y=>yc)"
   ]
  },
  {
   "cell_type": "code",
   "execution_count": null,
   "id": "4b3dceff",
   "metadata": {},
   "outputs": [],
   "source": [
    "# direct access to the column stored in `df`\n",
    "df.x1"
   ]
  },
  {
   "cell_type": "code",
   "execution_count": null,
   "id": "a1c0d90a",
   "metadata": {},
   "outputs": [],
   "source": [
    "# copy a column\n",
    "df[:, :x1]"
   ]
  },
  {
   "cell_type": "code",
   "execution_count": null,
   "id": "7222af0e",
   "metadata": {},
   "outputs": [],
   "source": [
    "# use special row selector `!`\n",
    "v = df[!, :x1]"
   ]
  },
  {
   "cell_type": "code",
   "execution_count": null,
   "id": "a04cb0cf",
   "metadata": {},
   "outputs": [],
   "source": [
    "v === df.x1"
   ]
  }
 ],
 "metadata": {
  "@webio": {
   "lastCommId": null,
   "lastKernelId": null
  },
  "kernelspec": {
   "display_name": "Julia 1.6.1",
   "language": "julia",
   "name": "julia-1.6"
  },
  "language_info": {
   "file_extension": ".jl",
   "mimetype": "application/julia",
   "name": "julia",
   "version": "1.6.1"
  }
 },
 "nbformat": 4,
 "nbformat_minor": 5
}
