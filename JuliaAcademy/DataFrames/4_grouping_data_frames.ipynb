{
 "cells": [
  {
   "cell_type": "markdown",
   "id": "81741143",
   "metadata": {},
   "source": [
    "# Working with groups of rows of a data frame"
   ]
  },
  {
   "cell_type": "code",
   "execution_count": null,
   "id": "6ae6e829",
   "metadata": {
    "scrolled": false
   },
   "outputs": [],
   "source": [
    "using DataFrames\n",
    "using CSV\n",
    "using Arrow\n",
    "using Statistics\n",
    "using FreqTables\n",
    "using Pipe\n",
    "\n",
    "using Test\n",
    "\n",
    "# Adjust table display\n",
    "ENV[\"LINES\"]   = 15\n",
    "ENV[\"COLUMNS\"] = 200\n",
    "\n",
    "# Make sure Chapter 3 is run\n",
    "@test isfile(\"auto2.csv\")\n",
    "\n",
    "df = CSV.File(\"auto2.csv\") |> DataFrame"
   ]
  },
  {
   "cell_type": "code",
   "execution_count": null,
   "id": "ff849be4",
   "metadata": {
    "scrolled": false
   },
   "outputs": [],
   "source": [
    "@test isfile(\"auto2.arrow\")\n",
    "df2 = Arrow.Table(\"auto2.arrow\") |> DataFrame"
   ]
  },
  {
   "cell_type": "code",
   "execution_count": null,
   "id": "b19d9242",
   "metadata": {
    "scrolled": false
   },
   "outputs": [],
   "source": [
    "@test df == df2 # no missing in both tables"
   ]
  },
  {
   "cell_type": "markdown",
   "id": "299ca874",
   "metadata": {},
   "source": [
    "In general `Arrow.jl` is the preferred way to store data frames, see [Arrow.jl blog](https://bkamins.github.io/julialang/2020/11/06/arrow.html).\n",
    "\n",
    "Notice that it uses its own `AbstractVector` type:"
   ]
  },
  {
   "cell_type": "code",
   "execution_count": null,
   "id": "2c019534",
   "metadata": {
    "scrolled": false
   },
   "outputs": [],
   "source": [
    "@test df2.mpg     isa Arrow.Primitive{Float64, Vector{Float64}}\n",
    "@test df2[!,:mpg] isa Arrow.Primitive{Float64, Vector{Float64}}\n",
    "@test !(df2.mpg isa Vector)\n",
    "\n",
    "# Turn underlying `Arrow.Primitive` into Vector by \n",
    "df3 = copy(df2)\n",
    "@test df3[!,:mpg] isa Vector"
   ]
  },
  {
   "cell_type": "markdown",
   "id": "b3c88e24",
   "metadata": {},
   "source": [
    "Group data frame by `:brand` column:"
   ]
  },
  {
   "cell_type": "code",
   "execution_count": null,
   "id": "3475591b",
   "metadata": {
    "scrolled": false
   },
   "outputs": [],
   "source": [
    "#gdf = groupby(df, [:brand,:cylinders])\n",
    "#gdf[(\"chevrolet\",4)]\n",
    "gdf = groupby(df, :brand)"
   ]
  },
  {
   "cell_type": "code",
   "execution_count": null,
   "id": "e13744f6",
   "metadata": {
    "scrolled": false
   },
   "outputs": [],
   "source": [
    "gdf[(\"ford\",)]"
   ]
  },
  {
   "cell_type": "code",
   "execution_count": null,
   "id": "2900ad1f",
   "metadata": {
    "scrolled": false
   },
   "outputs": [],
   "source": [
    "# Calculate aggregates by group\n",
    "# Pass :mpg to be processed by mean() and save to column \"MPG Average\"\n",
    "brand_mpg = combine(gdf, :mpg => mean => \"MPG Average\" )"
   ]
  },
  {
   "cell_type": "code",
   "execution_count": null,
   "id": "f5dad042",
   "metadata": {
    "scrolled": true
   },
   "outputs": [],
   "source": [
    "# sort data frame\n",
    "ENV[\"LINES\"] = 50\n",
    "sort!(brand_mpg, \"MPG Average\", rev=true) # high to low"
   ]
  },
  {
   "cell_type": "code",
   "execution_count": null,
   "id": "60bcdc74",
   "metadata": {
    "scrolled": true
   },
   "outputs": [],
   "source": [
    "# Check data consistency\n",
    "# The :origin of each brand must be the same\n",
    "# For example, the :origin of all Ford must be 1.0\n",
    "freqtable(df, :brand, :origin)"
   ]
  },
  {
   "cell_type": "code",
   "execution_count": null,
   "id": "ad9e63fb",
   "metadata": {
    "scrolled": true
   },
   "outputs": [],
   "source": [
    "gdf = groupby(df, :brand)\n",
    "origin_brand = combine(gdf, :origin => (x -> length(unique(x))) => \"uniqueness\")\n",
    "\n",
    "# use pipe the above 2 statements can be combined into 1\n",
    "origin_brand = @pipe df |> groupby(_, :brand) |> combine(_, :origin => (x -> length(unique(x))) => \"uniqueness\")\n"
   ]
  },
  {
   "cell_type": "code",
   "execution_count": null,
   "id": "c89454fe",
   "metadata": {
    "scrolled": false
   },
   "outputs": [],
   "source": [
    "# Expect min == max == 1\n",
    "@test (1,1) == extrema(origin_brand[!,\"uniqueness\"])"
   ]
  },
  {
   "cell_type": "code",
   "execution_count": null,
   "id": "f428c80b",
   "metadata": {
    "scrolled": true
   },
   "outputs": [],
   "source": [
    "# Group by 2 columns, each brand should have 1 group because there should be 1 origin\n",
    "origin_brand2 = @pipe df |> groupby(_, [:origin, :brand]) |> combine(_, nrow)"
   ]
  },
  {
   "cell_type": "code",
   "execution_count": null,
   "id": "05f6e0d1",
   "metadata": {
    "scrolled": true
   },
   "outputs": [],
   "source": [
    "# unstack to get similar table from freqtable\n",
    "origin_vs_brand = unstack(origin_brand2, :brand, :origin, :nrow)"
   ]
  },
  {
   "cell_type": "code",
   "execution_count": null,
   "id": "52f7b5cc",
   "metadata": {
    "scrolled": true
   },
   "outputs": [],
   "source": [
    "# missing -> 0\n",
    "# coalesce + broadcast goes through each elemenmt of the data frame\n",
    "coalesce.(origin_vs_brand, 0)"
   ]
  },
  {
   "cell_type": "code",
   "execution_count": null,
   "id": "2c8d655d",
   "metadata": {},
   "outputs": [],
   "source": [
    "names(origin_vs_brand)"
   ]
  },
  {
   "cell_type": "code",
   "execution_count": null,
   "id": "2756b57c",
   "metadata": {},
   "outputs": [],
   "source": [
    "propertynames(origin_vs_brand)"
   ]
  },
  {
   "cell_type": "code",
   "execution_count": null,
   "id": "4b1d7e3d",
   "metadata": {
    "scrolled": true
   },
   "outputs": [],
   "source": [
    "origin_vs_brand.\"1.0\"\n",
    "#origin_vs_brand[!,\"1.0\"]"
   ]
  },
  {
   "cell_type": "code",
   "execution_count": null,
   "id": "14dc77f0",
   "metadata": {},
   "outputs": [],
   "source": [
    "# Columns of data frame can hold any data type\n",
    "#\n",
    "# Note the use of Ref() is to wrap the resulting array into 1 object.  This prevents the following broadcasting\n",
    "# of the elements of the array.\n",
    "origin_brand3 = @pipe df |> groupby(_, :origin) |> combine(_, :brand => (x -> Ref(unique(x))) => \"brands\") "
   ]
  },
  {
   "cell_type": "code",
   "execution_count": null,
   "id": "d43e842e",
   "metadata": {},
   "outputs": [],
   "source": [
    "#origin_brand3[1, \"brands\"]"
   ]
  },
  {
   "cell_type": "code",
   "execution_count": null,
   "id": "a2c41fce",
   "metadata": {
    "scrolled": true
   },
   "outputs": [],
   "source": [
    "# This is not what we wanted\n",
    "# Without Ref() the result from unique() is broadcasted\n",
    "# Comment out to find out\n",
    "#@pipe df |> groupby(_, :origin) |> combine(_, :brand => (x -> unique(x)) => \"brands\") "
   ]
  },
  {
   "cell_type": "code",
   "execution_count": null,
   "id": "cdfb67b6",
   "metadata": {},
   "outputs": [],
   "source": [
    "#origin_brand3.\"brands\"[[1,2]]"
   ]
  },
  {
   "cell_type": "code",
   "execution_count": null,
   "id": "df971b23",
   "metadata": {},
   "outputs": [],
   "source": [
    "d = origin_brand3\n",
    "for i in axes(d, 1) # 1:nrow(origin_brand3)\n",
    "    for j in i+1:nrow(d)\n",
    "        # 3 ways\n",
    "        Ans = intersect(d[i,\"brands\"], d[j,\"brands\"])\n",
    "        #Ans = intersect(d[[i,j],\"brands\"]...)\n",
    "        #Ans = intersect(d.\"brands\"[[i,j]]...)\n",
    "                \n",
    "        println(\"$i vs $j => $Ans\")\n",
    "    end\n",
    "end"
   ]
  }
 ],
 "metadata": {
  "kernelspec": {
   "display_name": "Julia 1.6.1",
   "language": "julia",
   "name": "julia-1.6"
  },
  "language_info": {
   "file_extension": ".jl",
   "mimetype": "application/julia",
   "name": "julia",
   "version": "1.6.1"
  }
 },
 "nbformat": 4,
 "nbformat_minor": 5
}
