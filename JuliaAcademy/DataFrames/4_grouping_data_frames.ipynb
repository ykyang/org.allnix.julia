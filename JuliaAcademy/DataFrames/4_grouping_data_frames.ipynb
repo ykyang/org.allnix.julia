{
 "cells": [
  {
   "cell_type": "markdown",
   "id": "b607fe0d",
   "metadata": {},
   "source": [
    "# Working with groups of rows of a data frame"
   ]
  },
  {
   "cell_type": "code",
   "execution_count": null,
   "id": "79922a1c",
   "metadata": {},
   "outputs": [],
   "source": [
    "using DataFrames\n",
    "using CSV\n",
    "using Arrow\n",
    "using Statistics\n",
    "using FreqTables\n",
    "using Pipe\n",
    "\n",
    "using Test\n",
    "\n",
    "# Adjust table display\n",
    "ENV[\"LINES\"]   = 15\n",
    "ENV[\"COLUMNS\"] = 200\n",
    "\n",
    "# Make sure Chapter 3 is run\n",
    "@test isfile(\"auto2.csv\")\n",
    "\n",
    "df = CSV.File(\"auto2.csv\") |> DataFrame"
   ]
  },
  {
   "cell_type": "code",
   "execution_count": null,
   "id": "032e1e49",
   "metadata": {},
   "outputs": [],
   "source": [
    "@test isfile(\"auto2.arrow\")\n",
    "df2 = Arrow.Table(\"auto2.arrow\") |> DataFrame"
   ]
  },
  {
   "cell_type": "code",
   "execution_count": null,
   "id": "5949afa9",
   "metadata": {},
   "outputs": [],
   "source": [
    "@test df == df2 # no missing in both tables"
   ]
  },
  {
   "cell_type": "markdown",
   "id": "e5bfc96c",
   "metadata": {},
   "source": [
    "In general `Arrow.jl` is the preferred way to store data frames, but note that it uses its own `AbstractVector` type:"
   ]
  },
  {
   "cell_type": "code",
   "execution_count": null,
   "id": "d500028e",
   "metadata": {},
   "outputs": [],
   "source": [
    "typeof(df2.mpg)"
   ]
  }
 ],
 "metadata": {
  "kernelspec": {
   "display_name": "Julia 1.6.1",
   "language": "julia",
   "name": "julia-1.6"
  },
  "language_info": {
   "file_extension": ".jl",
   "mimetype": "application/julia",
   "name": "julia",
   "version": "1.6.1"
  }
 },
 "nbformat": 4,
 "nbformat_minor": 5
}
