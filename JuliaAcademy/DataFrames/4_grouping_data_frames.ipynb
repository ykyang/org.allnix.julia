{
 "cells": [
  {
   "cell_type": "markdown",
   "id": "ab883263",
   "metadata": {},
   "source": [
    "# Working with groups of rows of a data frame"
   ]
  },
  {
   "cell_type": "code",
   "execution_count": null,
   "id": "020f1f0a",
   "metadata": {},
   "outputs": [],
   "source": [
    "using DataFrames\n",
    "using CSV\n",
    "using Arrow\n",
    "using Statistics\n",
    "using FreqTables\n",
    "using Pipe\n",
    "\n",
    "using Test\n",
    "\n",
    "# Adjust table display\n",
    "ENV[\"LINES\"]   = 15\n",
    "ENV[\"COLUMNS\"] = 200\n",
    "\n",
    "# Make sure Chapter 3 is run\n",
    "@test isfile(\"auto2.csv\")\n",
    "\n",
    "df = CSV.File(\"auto2.csv\") |> DataFrame"
   ]
  },
  {
   "cell_type": "code",
   "execution_count": null,
   "id": "ef98a083",
   "metadata": {},
   "outputs": [],
   "source": [
    "@test isfile(\"auto2.arrow\")\n",
    "df2 = Arrow.Table(\"auto2.arrow\") |> DataFrame"
   ]
  },
  {
   "cell_type": "code",
   "execution_count": null,
   "id": "19e36678",
   "metadata": {},
   "outputs": [],
   "source": [
    "@test df == df2 # no missing in both tables"
   ]
  },
  {
   "cell_type": "markdown",
   "id": "22cde039",
   "metadata": {},
   "source": [
    "In general `Arrow.jl` is the preferred way to store data frames, see [Arrow.jl blog](https://bkamins.github.io/julialang/2020/11/06/arrow.html).\n",
    "\n",
    "Notice that it uses its own `AbstractVector` type:"
   ]
  },
  {
   "cell_type": "code",
   "execution_count": null,
   "id": "4b07b7bb",
   "metadata": {},
   "outputs": [],
   "source": [
    "@test df2.mpg     isa Arrow.Primitive{Float64, Vector{Float64}}\n",
    "@test df2[!,:mpg] isa Arrow.Primitive{Float64, Vector{Float64}}\n",
    "@test !(df2.mpg isa Vector)\n",
    "\n",
    "# Turn underlying `Arrow.Primitive` into Vector by \n",
    "df3 = copy(df2)\n",
    "@test df3[!,:mpg] isa Vector"
   ]
  },
  {
   "cell_type": "markdown",
   "id": "367ba7cb",
   "metadata": {},
   "source": [
    "Group data frame by `:brand` column:"
   ]
  },
  {
   "cell_type": "code",
   "execution_count": null,
   "id": "338affbe",
   "metadata": {},
   "outputs": [],
   "source": [
    "#gdf = groupby(df, [:brand,:cylinders])\n",
    "#gdf[(\"chevrolet\",4)]\n",
    "gdf = groupby(df, :brand)"
   ]
  },
  {
   "cell_type": "code",
   "execution_count": null,
   "id": "2a2e5eac",
   "metadata": {},
   "outputs": [],
   "source": [
    "gdf[(\"ford\",)]"
   ]
  },
  {
   "cell_type": "code",
   "execution_count": null,
   "id": "f293c0da",
   "metadata": {},
   "outputs": [],
   "source": [
    "# Calculate aggregates by group\n",
    "# Pass :mpg to be processed by mean() and save to column \"MPG Average\"\n",
    "brand_mpg = combine(gdf, :mpg => mean => \"MPG Average\" )"
   ]
  },
  {
   "cell_type": "code",
   "execution_count": null,
   "id": "0373712b",
   "metadata": {
    "scrolled": true
   },
   "outputs": [],
   "source": [
    "# sort data frame\n",
    "ENV[\"LINES\"] = 50\n",
    "sort!(brand_mpg, \"MPG Average\", rev=true) # high to low"
   ]
  },
  {
   "cell_type": "code",
   "execution_count": null,
   "id": "eddea557",
   "metadata": {
    "scrolled": true
   },
   "outputs": [],
   "source": [
    "# Check data consistency\n",
    "# The :origin of each brand must be the same\n",
    "# For example, the :origin of all Ford must be 1.0\n",
    "freqtable(df, :brand, :origin)"
   ]
  },
  {
   "cell_type": "code",
   "execution_count": null,
   "id": "5c7a296c",
   "metadata": {},
   "outputs": [],
   "source": [
    "gdf = groupby(df, :brand)\n",
    "origin_brand = combine(gdf, :origin => (x -> length(unique(x))) => \"uniqueness\")\n",
    "# use pipe the above 2 statements can be combined into 1\n",
    "origin_brand = @pipe df |> groupby(_, :brand) |> combine(_, :origin => (x -> length(unique(x))) => \"uniqueness\")\n"
   ]
  },
  {
   "cell_type": "code",
   "execution_count": null,
   "id": "e341239b",
   "metadata": {},
   "outputs": [],
   "source": [
    "@test (1,1) == extrema(origin_brand[!,\"uniqueness\"])"
   ]
  }
 ],
 "metadata": {
  "kernelspec": {
   "display_name": "Julia 1.6.1",
   "language": "julia",
   "name": "julia-1.6"
  },
  "language_info": {
   "file_extension": ".jl",
   "mimetype": "application/julia",
   "name": "julia",
   "version": "1.6.1"
  }
 },
 "nbformat": 4,
 "nbformat_minor": 5
}
