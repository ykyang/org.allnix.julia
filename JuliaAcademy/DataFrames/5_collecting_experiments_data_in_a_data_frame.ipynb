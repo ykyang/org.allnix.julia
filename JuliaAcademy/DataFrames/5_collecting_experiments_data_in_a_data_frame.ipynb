{
 "cells": [
  {
   "cell_type": "markdown",
   "id": "73d36414",
   "metadata": {},
   "source": [
    "# Collecting experiments data in a data frame"
   ]
  },
  {
   "cell_type": "code",
   "execution_count": null,
   "id": "9c2687fe",
   "metadata": {},
   "outputs": [],
   "source": [
    "using DataFrames\n",
    "using Statistics\n",
    "using PyPlot\n",
    "using Random\n",
    "using Pipe\n",
    "using Test"
   ]
  },
  {
   "cell_type": "code",
   "execution_count": null,
   "id": "5aba4680",
   "metadata": {},
   "outputs": [],
   "source": [
    "# U(0,1)\n",
    "# How many draws till the sum exceeds 1?\n",
    "function sim_e()\n",
    "    draw = Float64[]\n",
    "    while true\n",
    "        push!(draw, rand())\n",
    "        sum(draw) > 1.0 && return draw\n",
    "    end\n",
    "end"
   ]
  },
  {
   "cell_type": "code",
   "execution_count": null,
   "id": "a455cff8",
   "metadata": {},
   "outputs": [],
   "source": [
    "Random.seed!(1234) # want to have the same result"
   ]
  },
  {
   "cell_type": "code",
   "execution_count": null,
   "id": "efb898f3",
   "metadata": {},
   "outputs": [],
   "source": [
    "draws = [sim_e() for _ in 1:5]"
   ]
  },
  {
   "cell_type": "code",
   "execution_count": null,
   "id": "32722064",
   "metadata": {},
   "outputs": [],
   "source": [
    "# Check the sum of every draw is greater than 1.0\n",
    "@test all(@. sum(draws) > 1.0)"
   ]
  },
  {
   "cell_type": "code",
   "execution_count": null,
   "id": "ae598a7d",
   "metadata": {},
   "outputs": [],
   "source": [
    "# Check it is the last element exceeds 1.0\n",
    "@test all(@. (sum(draws) - last(draws)) < 1.0)"
   ]
  },
  {
   "cell_type": "code",
   "execution_count": null,
   "id": "2cccf1c5",
   "metadata": {},
   "outputs": [],
   "source": [
    "# Put lots of experiments into a data frame\n",
    "df = DataFrame()\n",
    "\n",
    "@time for i in 1:10^6\n",
    "    push!(df, (id = i, pos = sim_e()))\n",
    "end"
   ]
  },
  {
   "cell_type": "code",
   "execution_count": null,
   "id": "693f2782",
   "metadata": {
    "scrolled": true
   },
   "outputs": [],
   "source": [
    "df"
   ]
  },
  {
   "cell_type": "code",
   "execution_count": null,
   "id": "d92d9a92",
   "metadata": {
    "scrolled": true
   },
   "outputs": [],
   "source": [
    "# This form produces a :jumps column with value 1,000,000 in every row\n",
    "# transform(df, :pos => length => :jumps)\n",
    "\n",
    "# This form tells transform to go row-by-row.\n",
    "transform!(df, :pos => ByRow(length) => :jumps)"
   ]
  },
  {
   "cell_type": "code",
   "execution_count": null,
   "id": "97f58e60",
   "metadata": {},
   "outputs": [],
   "source": [
    "mean(df.jumps)"
   ]
  },
  {
   "cell_type": "code",
   "execution_count": null,
   "id": "1c45939a",
   "metadata": {},
   "outputs": [],
   "source": [
    "# or \n",
    "combine(df, :jumps => mean => :jumps_mean)"
   ]
  },
  {
   "cell_type": "code",
   "execution_count": null,
   "id": "79b3fa3e",
   "metadata": {},
   "outputs": [],
   "source": [
    "# close to e\n",
    "MathConstants.e"
   ]
  },
  {
   "cell_type": "code",
   "execution_count": null,
   "id": "f956486e",
   "metadata": {},
   "outputs": [],
   "source": [
    "# Find a distribution of number of jumps\n",
    "jumps_agg = @pipe df |> groupby(_, :jumps, sort=true) |> combine(_, :jumps => length)"
   ]
  },
  {
   "cell_type": "code",
   "execution_count": null,
   "id": "94157fb9",
   "metadata": {},
   "outputs": [],
   "source": [
    "# 1. normalize by sum\n",
    "# 2. calculate theoretic values\n",
    "transform(\n",
    "    jumps_agg,     \n",
    "    :jumps_length => (x -> x ./ sum(x))             => :simulation,\n",
    "    :jumps        => ByRow(x -> (x-1)/factorial(x)) => :theory\n",
    ")"
   ]
  },
  {
   "cell_type": "code",
   "execution_count": null,
   "id": "414bcab4",
   "metadata": {
    "scrolled": true
   },
   "outputs": [],
   "source": [
    "df"
   ]
  },
  {
   "cell_type": "code",
   "execution_count": null,
   "id": "958c0924",
   "metadata": {
    "scrolled": true
   },
   "outputs": [],
   "source": [
    "df_test = select(\n",
    "    df,\n",
    "    :pos => ByRow(first) => :first,\n",
    "    :pos => ByRow(last)  => :last\n",
    ")"
   ]
  },
  {
   "cell_type": "code",
   "execution_count": null,
   "id": "ccfb5d2c",
   "metadata": {},
   "outputs": [],
   "source": [
    "hist(df_test.first, 100);"
   ]
  },
  {
   "cell_type": "code",
   "execution_count": null,
   "id": "3d69935a",
   "metadata": {},
   "outputs": [],
   "source": [
    "hist(df_test.last, 100);"
   ]
  }
 ],
 "metadata": {
  "kernelspec": {
   "display_name": "Julia 1.6.1",
   "language": "julia",
   "name": "julia-1.6"
  },
  "language_info": {
   "file_extension": ".jl",
   "mimetype": "application/julia",
   "name": "julia",
   "version": "1.6.1"
  }
 },
 "nbformat": 4,
 "nbformat_minor": 5
}
