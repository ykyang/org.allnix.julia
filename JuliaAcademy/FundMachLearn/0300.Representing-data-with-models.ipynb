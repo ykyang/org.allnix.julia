{
 "cells": [
  {
   "outputs": [],
   "cell_type": "code",
   "source": [
    "import Pkg; Pkg.add(Pkg.PackageSpec(url=\"https://github.com/JuliaComputing/JuliaAcademyData.jl\"))\n",
    "using JuliaAcademyData; activate(\"Foundations of machine learning\")"
   ],
   "metadata": {},
   "execution_count": null
  },
  {
   "outputs": [],
   "cell_type": "markdown",
   "source": [
    "# Representing data in a computer\n",
    "\n",
    "The core of data science and machine learning is **data**: we are interested in extracting knowledge from data.\n",
    "\n",
    "But how exactly do computers represent data? Let's find out exactly what an \"artificial intelligence\" has at its disposal to learn from."
   ],
   "metadata": {}
  },
  {
   "outputs": [],
   "cell_type": "markdown",
   "source": [
    "## Data is represented as arrays\n",
    "\n",
    "Let's take a look at some fruit. Using the `Images.jl` library, we can load in some images:"
   ],
   "metadata": {}
  },
  {
   "outputs": [],
   "cell_type": "code",
   "source": [
    "using Images\n",
    "\n",
    "apple = load(datafile(\"data/10_100.jpg\"))"
   ],
   "metadata": {},
   "execution_count": null
  },
  {
   "outputs": [],
   "cell_type": "code",
   "source": [
    "banana = load(datafile(\"data/104_100.jpg\"))"
   ],
   "metadata": {},
   "execution_count": null
  },
  {
   "outputs": [],
   "cell_type": "markdown",
   "source": [
    "Here we have images of apples and bananas. We would eventually like to build a program that can automatically distinguish between the two. However, the computer doesn't \"see\" an apple or a banana; instead, it just sees numbers.\n",
    "\n",
    "An image is encoded in something called an **array**, which is like a container that has boxes or slots for individual pieces of data:\n",
    "\n",
    "An array is a bunch of numbers in connected boxes; the figure above shows a 1-dimensional array. Our images are instead 2-dimensional arrays, or matrices, of numbers, arranged something like this:"
   ],
   "metadata": {}
  },
  {
   "outputs": [],
   "cell_type": "markdown",
   "source": [
    "<img src=\"https://raw.githubusercontent.com/JuliaComputing/JuliaAcademyData.jl/master/courses/Foundations%20of%20machine%20learning/data/array2d.png\" alt=\"attachment:array2d.png\" width=\"500\"/>"
   ],
   "metadata": {}
  },
  {
   "outputs": [],
   "cell_type": "markdown",
   "source": [
    "For example, `apple` is an image, consisting of a 100x100 array of numbers:"
   ],
   "metadata": {}
  },
  {
   "outputs": [],
   "cell_type": "code",
   "source": [
    "typeof(apple)"
   ],
   "metadata": {},
   "execution_count": null
  },
  {
   "outputs": [],
   "cell_type": "code",
   "source": [
    "size(apple)"
   ],
   "metadata": {},
   "execution_count": null
  },
  {
   "outputs": [],
   "cell_type": "code",
   "source": [
    "a = [ 1 2 3;4 5 6]"
   ],
   "metadata": {},
   "execution_count": null
  },
  {
   "outputs": [],
   "cell_type": "code",
   "source": [
    "typeof(a)"
   ],
   "metadata": {},
   "execution_count": null
  },
  {
   "outputs": [],
   "cell_type": "code",
   "source": [
    "size(a)"
   ],
   "metadata": {},
   "execution_count": null
  },
  {
   "outputs": [],
   "cell_type": "markdown",
   "source": [
    "We can grab the datum stored in the box at row `i` and column `j` by *indexing* using square brackets: `[i, j]`. For example, let's get the pixel (piece of the image) in box $(40, 60)$, i.e. in the 40th row and 60th column of the image:"
   ],
   "metadata": {}
  },
  {
   "outputs": [],
   "cell_type": "code",
   "source": [
    "apple"
   ],
   "metadata": {},
   "execution_count": null
  },
  {
   "outputs": [],
   "cell_type": "code",
   "source": [
    "dump(apple[40, 60])"
   ],
   "metadata": {},
   "execution_count": null
  },
  {
   "outputs": [],
   "cell_type": "code",
   "source": [
    "apple[18:20,29:31]"
   ],
   "metadata": {},
   "execution_count": null
  },
  {
   "outputs": [],
   "cell_type": "markdown",
   "source": [
    "We see that Julia displays a coloured box! Julia, via the `Colors.jl` package, is clever enough to display colours in a way that is useful to us humans!\n",
    "\n",
    "So, in fact, an image is a 2D array, in which each element of the array is an object (a collection of numbers) describing a coloured pixel."
   ],
   "metadata": {}
  },
  {
   "outputs": [],
   "cell_type": "markdown",
   "source": [
    "## Colors as numbers\n",
    "\n",
    "How, then, are these colors actually stored? Computers store colors in RGB format, that is they store a value between 0 and 1 for each of three \"channels\": red, green, and blue. Here, 0 means none of that color and 1 means the brightest form of that color. The overall color is a combination of those three colors.\n",
    "\n",
    "For example, we can pull out the `red` value using the function `red` applied to the color. Since internally the actual value is stored in a special format, we choose to convert it to a standard floating-point number using the `Float64` function:"
   ],
   "metadata": {}
  },
  {
   "outputs": [],
   "cell_type": "code",
   "source": [
    "Float64(red(apple[40, 60]))"
   ],
   "metadata": {},
   "execution_count": null
  },
  {
   "outputs": [],
   "cell_type": "code",
   "source": [
    "using Statistics"
   ],
   "metadata": {},
   "execution_count": null
  },
  {
   "outputs": [],
   "cell_type": "code",
   "source": [
    "[ mean(float.(c.(img))) for c = [red,green,blue], img = [apple,banana] ]"
   ],
   "metadata": {},
   "execution_count": null
  },
  {
   "outputs": [],
   "cell_type": "code",
   "source": [
    "using Plots\n",
    "histogram(float.(green.(apple[:])),color=\"red\",label=\"apple\", normalize=true, nbins=25)\n",
    "histogram!(float.(green.(banana[:])),color=\"yellow\",label=\"banana\",normalize=true, nbins=25)"
   ],
   "metadata": {},
   "execution_count": null
  },
  {
   "outputs": [],
   "cell_type": "code",
   "source": [
    "apple"
   ],
   "metadata": {},
   "execution_count": null
  },
  {
   "outputs": [],
   "cell_type": "code",
   "source": [
    "float(red(banana[50,20]))"
   ],
   "metadata": {},
   "execution_count": null
  },
  {
   "outputs": [],
   "cell_type": "code",
   "source": [
    "banana[50,20]"
   ],
   "metadata": {},
   "execution_count": null
  },
  {
   "outputs": [],
   "cell_type": "code",
   "source": [
    "pixel = apple[40, 60]\n",
    "\n",
    "red_value   = Float64( red(pixel) )\n",
    "green_value = Float64( green(pixel) )\n",
    "blue_value  = Float64( blue(pixel) )\n",
    "\n",
    "print(\"The RGB values are ($red_value, $green_value, $blue_value)\")"
   ],
   "metadata": {},
   "execution_count": null
  },
  {
   "outputs": [],
   "cell_type": "markdown",
   "source": [
    "Since the red value is high while the others are low, this means that at pixel `(40, 60)`, the picture of the apple is very red. If we do the same at one of the corners of the picture, we get the following:"
   ],
   "metadata": {}
  },
  {
   "outputs": [],
   "cell_type": "code",
   "source": [
    "pixel = apple[1, 1]\n",
    "\n",
    "red_value   = Float64( red(pixel) )\n",
    "green_value = Float64( green(pixel) )\n",
    "blue_value  = Float64( blue(pixel) )\n",
    "\n",
    "print(\"The RGB values are ($red_value, $green_value, $blue_value)\")"
   ],
   "metadata": {},
   "execution_count": null
  },
  {
   "outputs": [],
   "cell_type": "code",
   "source": [
    "apple"
   ],
   "metadata": {},
   "execution_count": null
  },
  {
   "outputs": [],
   "cell_type": "markdown",
   "source": [
    "We see that every color is bright, which corresponds to white."
   ],
   "metadata": {}
  },
  {
   "outputs": [],
   "cell_type": "markdown",
   "source": [
    "## Working on an image as a whole\n",
    "\n",
    "In Julia, to apply a function to the whole of an array, we place a `.` between the function name and the left parenthesis (`(`), so the following gives us the `red` value of every pixel in the image:"
   ],
   "metadata": {}
  },
  {
   "outputs": [],
   "cell_type": "code",
   "source": [
    "redpartofapple = Float64.(red.(apple))\n",
    "mean(redpartofapple)"
   ],
   "metadata": {},
   "execution_count": null
  },
  {
   "outputs": [],
   "cell_type": "code",
   "source": [
    "using Plots"
   ],
   "metadata": {},
   "execution_count": null
  },
  {
   "outputs": [],
   "cell_type": "code",
   "source": [
    "gr()"
   ],
   "metadata": {},
   "execution_count": null
  },
  {
   "outputs": [],
   "cell_type": "code",
   "source": [
    "histogram(redpartofapple[:],color=:red,label=\"redness in the apple\")"
   ],
   "metadata": {},
   "execution_count": null
  },
  {
   "outputs": [],
   "cell_type": "markdown",
   "source": [
    "Note that we get a 2D array (matrix) back."
   ],
   "metadata": {}
  },
  {
   "outputs": [],
   "cell_type": "markdown",
   "source": [
    "Julia's [mathematical standard library](https://docs.julialang.org/en/stable/stdlib/math/#Mathematics-1) has many mathematical functions built in. One of them is the `mean` function, which computes the average value. If we apply this to our apple:"
   ],
   "metadata": {}
  },
  {
   "outputs": [],
   "cell_type": "code",
   "source": [
    "mean(Float64.(red.(apple)))"
   ],
   "metadata": {},
   "execution_count": null
  },
  {
   "outputs": [],
   "cell_type": "markdown",
   "source": [
    "we see that the value indicates that the average amount of red in the image is a value between the amount of red in the apple and the amount of red in the white background.\n",
    "\n",
    "*Somehow we need to teach a computer to use this information about a picture to recognize that there's an apple there!*"
   ],
   "metadata": {}
  },
  {
   "outputs": [],
   "cell_type": "markdown",
   "source": [
    "## A quick riddle\n",
    "\n",
    "Here's a quick riddle. Let's check the average value of red in the image of the banana."
   ],
   "metadata": {}
  },
  {
   "outputs": [],
   "cell_type": "code",
   "source": [
    "mean(Float64.(red.(banana)))"
   ],
   "metadata": {},
   "execution_count": null
  },
  {
   "outputs": [],
   "cell_type": "markdown",
   "source": [
    "Oh no, that's more red than our apple? This isn't a mistake and is actually true! Before you move onto the next exercise, examine the images of the apple and the banana very carefully and see if you can explain why this is expected."
   ],
   "metadata": {}
  },
  {
   "outputs": [],
   "cell_type": "markdown",
   "source": [
    "#### Exercise 1\n",
    "\n",
    "What is the average value of blue in the banana?\n",
    "\n",
    "(To open a new box use <ESC>+b (b is for \"below\", what do you think a does?))"
   ],
   "metadata": {}
  },
  {
   "outputs": [],
   "cell_type": "markdown",
   "source": [
    "#### Solution\n",
    "\n",
    "We can calculate the average value of blue in the banana via"
   ],
   "metadata": {}
  },
  {
   "outputs": [],
   "cell_type": "code",
   "source": [
    "mean(Float64.(blue.(banana)))"
   ],
   "metadata": {},
   "execution_count": null
  },
  {
   "outputs": [],
   "cell_type": "markdown",
   "source": [
    "The result is approximately `0.8`."
   ],
   "metadata": {}
  },
  {
   "outputs": [],
   "cell_type": "markdown",
   "source": [
    "#### Exercise 2\n",
    "\n",
    "Does the banana have more blue or more green?"
   ],
   "metadata": {}
  },
  {
   "outputs": [],
   "cell_type": "markdown",
   "source": [
    "#### Solution\n",
    "\n",
    "The average value of green in the banana is"
   ],
   "metadata": {}
  },
  {
   "outputs": [],
   "cell_type": "code",
   "source": [
    "mean(Float64.(green.(banana)))"
   ],
   "metadata": {},
   "execution_count": null
  },
  {
   "outputs": [],
   "cell_type": "markdown",
   "source": [
    "which gives approximately `0.88`. The banana has more green on average."
   ],
   "metadata": {}
  },
  {
   "outputs": [],
   "cell_type": "markdown",
   "source": [
    "# Modeling data 1\n",
    "\n",
    "Machine learning and data science is about modeling data. **Modeling** is the representation of an idea with some parameters and  a mathematical representation which we will encode in software. All machine learning methods are about training a computer to fit a model to some data. Even the fanciest neural networks are simply choices for models. In this notebook, we will begin to start building our first computational model of data."
   ],
   "metadata": {}
  },
  {
   "outputs": [],
   "cell_type": "markdown",
   "source": [
    "## Modeling data is hard!\n",
    "\n",
    "Let's pick up where we left off in notebook 1 with fruit. We were left with a riddle: when we load images of apples and bananas,"
   ],
   "metadata": {}
  },
  {
   "outputs": [],
   "cell_type": "code",
   "source": [
    "# using Pkg; Pkg.add(\"Images\")\n",
    "using Images, Statistics\n",
    "\n",
    "apple = load(datafile(\"data/10_100.jpg\"))"
   ],
   "metadata": {},
   "execution_count": null
  },
  {
   "outputs": [],
   "cell_type": "code",
   "source": [
    "banana = load(datafile(\"data/104_100.jpg\"))"
   ],
   "metadata": {},
   "execution_count": null
  },
  {
   "outputs": [],
   "cell_type": "markdown",
   "source": [
    "and then compare their average value for the color red, we end up with something that is perhaps surprising:"
   ],
   "metadata": {}
  },
  {
   "outputs": [],
   "cell_type": "code",
   "source": [
    "apple_red_amount = mean(Float64.(red.(apple)))\n",
    "banana_red_amount = mean(Float64.(red.(banana)));\n",
    "\n",
    "\"The average value of red in the apple is $apple_red_amount, \" *\n",
    "\"while the average value of red in the banana is $banana_red_amount.\""
   ],
   "metadata": {},
   "execution_count": null
  },
  {
   "outputs": [],
   "cell_type": "markdown",
   "source": [
    "We see that the banana's mean red value is higher than the apple's, even though the apple looks much redder. Can you guess why?\n",
    "\n",
    "There are actually two reasons. One of the reasons is the background: the image of the banana has a lot more white background than the apple, and that white background has a red value of 1! In our minds we ignore the background and say \"the banana is bright yellow, the apple is dark red\", but a computer just has a bundle of numbers and does not know where it should be looking.\n",
    "\n",
    "The other issue is that \"bright yellow\" isn't a color that exists in a computer. The computer has three colors: red, green, and blue. \"Bright yellow\" in a computer is a mixture of red and green, and it just so happens that to get this color yellow, it needs more red than the apple!"
   ],
   "metadata": {}
  },
  {
   "outputs": [],
   "cell_type": "code",
   "source": [
    "\"The amount of red in the apple at (60, 60) is $(Float64(red(apple[60, 60]))), \" *\n",
    "\"while the amount of red in the banana at (60, 60) is $(Float64(red(banana[60, 60]))).\""
   ],
   "metadata": {},
   "execution_count": null
  },
  {
   "outputs": [],
   "cell_type": "code",
   "source": [
    "apple[60,60]"
   ],
   "metadata": {},
   "execution_count": null
  },
  {
   "outputs": [],
   "cell_type": "code",
   "source": [
    "banana[60,60]"
   ],
   "metadata": {},
   "execution_count": null
  },
  {
   "outputs": [],
   "cell_type": "markdown",
   "source": [
    "This is a clear example that modeling data is hard!"
   ],
   "metadata": {}
  },
  {
   "outputs": [],
   "cell_type": "markdown",
   "source": [
    "### A note on string interpolation\n",
    "\n",
    "In the last two input cells, we *interpolated a string*. This means that when we write the string using quotation marks (`\"  \"`), we insert a placeholder for some **value** we want the string to include. When the string is evaluated, the value we want the string to include replaces the placeholder. For example, in the following string,\n",
    "\n",
    "```julia\n",
    "mystring = \"The average value of red in the apple is $apple_red_amount\"\n",
    "```\n",
    "\n",
    "`$apple_red_amount` is a placeholder for the value stored in the variable `apple_red_amount`. Julia knows that we want to use the value bound to the variable `apple_red_amount` and *not* the word \"apple_red_amount\" because of the dollar sign, `$`, that comes before `apple_red_amount`."
   ],
   "metadata": {}
  },
  {
   "outputs": [],
   "cell_type": "markdown",
   "source": [
    "#### Exercise 1\n",
    "\n",
    "Execute the following code to see what the dollar sign does:\n",
    "\n",
    "```julia\n",
    "mypi = 3.14159\n",
    "println(\"I have a variable called mypi that has a value of $mypi.\")\n",
    "```"
   ],
   "metadata": {}
  },
  {
   "outputs": [],
   "cell_type": "markdown",
   "source": [
    "#### Solution"
   ],
   "metadata": {}
  },
  {
   "outputs": [],
   "cell_type": "code",
   "source": [
    "mypi = 3.14159\n",
    "println(\"I have a variable called mypi that has a value of $mypi.\")"
   ],
   "metadata": {},
   "execution_count": null
  },
  {
   "outputs": [],
   "cell_type": "markdown",
   "source": [
    "#### Exercise 2\n",
    "\n",
    "Alter and execute the code that creates `mystring` below\n",
    "\n",
    "```julia\n",
    "apple_blue_amount = mean(Float64.(blue.(apple)))\n",
    "mystring = \"The average amount of blue in the apple is apple_blue_amount\"\n",
    "```\n",
    "\n",
    "so that `println(mystring)` prints a string that reports the mean value of blue coloration in our image of an apple."
   ],
   "metadata": {}
  },
  {
   "outputs": [],
   "cell_type": "markdown",
   "source": [
    "#### Solution"
   ],
   "metadata": {}
  },
  {
   "outputs": [],
   "cell_type": "markdown",
   "source": [
    "Add a `$` in front of `apple_blue_amount`:"
   ],
   "metadata": {}
  },
  {
   "outputs": [],
   "cell_type": "code",
   "source": [
    "apple_blue_amount = mean(Float64.(blue.(apple)))\n",
    "mystring = \"The average amount of blue in the apple is $apple_blue_amount.\""
   ],
   "metadata": {},
   "execution_count": null
  },
  {
   "outputs": [],
   "cell_type": "markdown",
   "source": [
    "## Take some time to think about the data\n",
    "\n",
    "Apples and bananas are very different, but how could we use the array of RGB values (which is how the images are represented in the computer, as we saw in notebook 1) to tell the difference between the two? Here are some quick ideas:\n",
    "\n",
    "- We could use the shape of the object in the image. But how can we encode ideas about shape from an array?\n",
    "- We could use the size of the object in the image. But how do we calculate that size?\n",
    "- We could use another color, or combinations of colors, from the image. Which colors?\n",
    "\n",
    "Let's go with the last route. The banana is yellow, which is a combination of red and green, while the apple is red. This means that the color that clearly differentiates between the two is not red, but green!"
   ],
   "metadata": {}
  },
  {
   "outputs": [],
   "cell_type": "code",
   "source": [
    "apple_green_amount = mean(Float64.(green.(apple)))\n",
    "banana_green_amount = mean(Float64.(green.(banana)));\n",
    "\n",
    "\"The average value of green in the apple is $apple_green_amount, \" *\n",
    "\"while the average value of green in the banana is $banana_green_amount.\""
   ],
   "metadata": {},
   "execution_count": null
  },
  {
   "outputs": [],
   "cell_type": "markdown",
   "source": [
    "The processes that we just went through are assigned fancy names: feature selection and data munging.\n",
    "\n",
    "**Feature selection** is the process of subsetting the data to a more relevant and informative set. We took the full image data and decided to select out the green channel.\n",
    "\n",
    "**Data munging** is transforming the data into a format more suitable for modeling. Here, instead of keeping the full green channel, we transformed it down to a single data point: the average amount of green."
   ],
   "metadata": {}
  },
  {
   "outputs": [],
   "cell_type": "markdown",
   "source": [
    "## Building a model\n",
    "\n",
    "We want to model the connection between \"the average amount of green\" and \"is an apple or banana\".\n",
    "\n",
    "<img src=\"https://raw.githubusercontent.com/JuliaComputing/JuliaAcademyData.jl/master/courses/Foundations%20of%20machine%20learning/data/data_flow.png\" alt=\"Drawing\" style=\"width: 800px;\"/>\n",
    "\n",
    "This model is a mathematical function which takes in our data and spits out a number that we will interpret as \"is an apple\" or \"is a banana\".\n",
    "\n",
    "<img src=\"https://raw.githubusercontent.com/JuliaComputing/JuliaAcademyData.jl/master/courses/Foundations%20of%20machine%20learning/data/what_is_model.png\" alt=\"Drawing\" style=\"width: 500px;\"/>\n",
    "\n",
    "\n",
    "We will interpret the output of the function as \"is an apple\" if the output is close to 0, and \"is a banana\" if it's close to 1. Anything in the middle is something we are unsure about. Here we're using a mathematical function to perform a **classification**.\n",
    "\n",
    "Knowing how to declare and work with functions will allow us to model our data in the coming sections, so this is the subject of the next notebook!"
   ],
   "metadata": {}
  }
 ],
 "nbformat_minor": 3,
 "metadata": {
  "language_info": {
   "file_extension": ".jl",
   "mimetype": "application/julia",
   "name": "julia",
   "version": "1.0.3"
  },
  "kernelspec": {
   "name": "julia-1.0",
   "display_name": "Julia 1.0.3",
   "language": "julia"
  }
 },
 "nbformat": 4
}
