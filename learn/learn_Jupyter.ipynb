{
 "cells": [
  {
   "cell_type": "code",
   "execution_count": null,
   "id": "3b917391",
   "metadata": {},
   "outputs": [],
   "source": [
    "using PlotlyJS, WebIO\n",
    "#WebIO.install_jupyter_nbextension()"
   ]
  },
  {
   "cell_type": "code",
   "execution_count": null,
   "id": "84acce7b",
   "metadata": {
    "scrolled": false
   },
   "outputs": [],
   "source": [
    "l = Layout(\n",
    "        title=\"Penguins\",\n",
    "        xaxis=attr(title=\"fish\", showgrid=true),\n",
    "        yaxis=attr(title=\"Weight\", showgrid=true),\n",
    "        legend=attr(x=0.1, y=0.1),\n",
    "        width = 700,\n",
    "        height = 500,\n",
    ")\n",
    "trace1 = scatter(;x=1:4, y=[10, 15, 13, 17], mode=\"markers\")\n",
    "trace2 = scatter(;x=2:5, y=[16, 5, 11, 9], mode=\"lines\")\n",
    "trace3 = scatter(;x=1:4, y=[12, 9, 10, 12], mode=\"lines+markers\")\n",
    "# Display in-place\n",
    "plt = plot([trace1, trace2, trace3], l)\n",
    "display(plt)\n",
    "\n",
    "# Display in-place\n",
    "#p = Plot([trace1, trace2, trace3], l)   # for display in-place\n",
    "#display(p)"
   ]
  },
  {
   "cell_type": "markdown",
   "id": "a5ee9a72",
   "metadata": {},
   "source": [
    "## PlotlyJS works"
   ]
  },
  {
   "cell_type": "code",
   "execution_count": null,
   "id": "05e11b3f",
   "metadata": {},
   "outputs": [],
   "source": []
  },
  {
   "cell_type": "code",
   "execution_count": null,
   "id": "02f0af59",
   "metadata": {},
   "outputs": [],
   "source": []
  }
 ],
 "metadata": {
  "@webio": {
   "lastCommId": "5b2667600c6647c788dabe2b7bc6772b",
   "lastKernelId": "45e058f6-6c1d-408e-bbde-b9f10525f63c"
  },
  "kernelspec": {
   "display_name": "Julia 1.6.1",
   "language": "julia",
   "name": "julia-1.6"
  },
  "language_info": {
   "file_extension": ".jl",
   "mimetype": "application/julia",
   "name": "julia",
   "version": "1.6.1"
  }
 },
 "nbformat": 4,
 "nbformat_minor": 5
}
